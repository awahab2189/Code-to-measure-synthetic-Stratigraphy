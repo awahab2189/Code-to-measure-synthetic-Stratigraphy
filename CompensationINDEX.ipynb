{
 "cells": [
  {
   "cell_type": "code",
   "execution_count": 9,
   "metadata": {
    "scrolled": true
   },
   "outputs": [],
   "source": [
    "import numpy as np\n",
    "import matplotlib.pyplot as plt\n",
    "import shutil\n",
    "import subprocess\n",
    "import math\n",
    "# import pandas as pd\n",
    "# import scipy as sp\n",
    "# from scipy.io import loadmat\n",
    "# import matlab.engine as eng\n"
   ]
  },
  {
   "cell_type": "markdown",
   "metadata": {},
   "source": [
    "%------INPUTS-----%\n",
    "% Code requires a 3D matrix of interpolated topography data.The data contains x-cordinates, y-cordinates, and z (elevation) values from a simulation.\n",
    "\n",
    "%------OUTPUTS----%\n",
    "% 1D arrays of sigmas_ss (standard deviation of the ratio of sedimentation to average aggardation rates over a given radial transect with in a basin.\n",
    "% 1D arrays of variability in sigma_ss\n",
    "% Exponent of a power law fit to the decay in sigma_ss as function of measurement time. The power law fit approach is motivated from Straub etal 2009"
   ]
  },
  {
   "cell_type": "code",
   "execution_count": null,
   "metadata": {},
   "outputs": [],
   "source": [
    "dir = r'/---/---/---/---/---/----/'\n",
    "deptick = loadmat('deptick1.mat')  ##Load 3D array that is (x,y,t)"
   ]
  },
  {
   "cell_type": "code",
   "execution_count": 10,
   "metadata": {},
   "outputs": [
    {
     "ename": "NameError",
     "evalue": "name 'deptick' is not defined",
     "output_type": "error",
     "traceback": [
      "\u001b[1;31m---------------------------------------------------------------------------\u001b[0m",
      "\u001b[1;31mNameError\u001b[0m                                 Traceback (most recent call last)",
      "Input \u001b[1;32mIn [10]\u001b[0m, in \u001b[0;36m<module>\u001b[1;34m\u001b[0m\n\u001b[0;32m     27\u001b[0m         sig_sss\u001b[38;5;241m.\u001b[39mappend(sig_sttspan)\n\u001b[0;32m     28\u001b[0m     \u001b[38;5;28;01mreturn\u001b[39;00m np\u001b[38;5;241m.\u001b[39marray(sss),np\u001b[38;5;241m.\u001b[39marray(sig_sss)         \u001b[38;5;66;03m#Conver list to arrat for mathematical operations\u001b[39;00m\n\u001b[1;32m---> 30\u001b[0m nx \u001b[38;5;241m=\u001b[39m \u001b[43mdeptick\u001b[49m\u001b[38;5;241m.\u001b[39mshape[\u001b[38;5;241m0\u001b[39m]\n\u001b[0;32m     31\u001b[0m ny \u001b[38;5;241m=\u001b[39m deptick\u001b[38;5;241m.\u001b[39mshape[\u001b[38;5;241m1\u001b[39m]\n\u001b[0;32m     32\u001b[0m nt \u001b[38;5;241m=\u001b[39m deptick\u001b[38;5;241m.\u001b[39mshape[\u001b[38;5;241m2\u001b[39m]\n",
      "\u001b[1;31mNameError\u001b[0m: name 'deptick' is not defined"
     ]
    }
   ],
   "source": [
    "def Syn_strata(z):      # This function creates synthetic stratigrapghy from a xsection of elevation data\n",
    "    S_strat = z\n",
    "    nx,nsteps = S_strat.shape\n",
    "    for i in range(nx):\n",
    "        for j in range(nsteps):\n",
    "            S_strat[i,j]= np.min(S_strat[i,j:nsteps])                    \n",
    "            return S_strat\n",
    "\n",
    "def fsigma_ss(strata,drift_rate):    #Function Calculates sigma ss for range of measurment windows provided by data set, which is oriented with space x time\n",
    "    nt = S_strat.shape[1]\n",
    "    sss = []                 #list of sigma ss values\n",
    "    sig_sss = []             #list standard deviation of sss\n",
    "    for i in range(nt-1):    #loop with changing time window size\n",
    "        sigU =[]             #list of individual sigma_ss measurements for a given window size\n",
    "        for j in range(nt):\n",
    "            line1 = S_strat[:,j]         #topography at time t=j\n",
    "            if i+j > nt:\n",
    "                break\n",
    "            line2 = S_strat[:,i+j]                  #topography at time t = j+i\n",
    "            diff = np.subtract(line2,line1)         #difference in line 2 and line 1 (i.e. sedimentation)\n",
    "            drift = i*drift_rate                    #mean drift for this time window\n",
    "            U = diff/drift                          #ratio of sedimentation/subsidence\n",
    "            sigU.append(np.std(U))\n",
    "        sttspan = np.nanmean(sigU)\n",
    "        sig_sttspan = np.nanstd(sigU)\n",
    "        sss.append(sttspan)\n",
    "        sig_sss.append(sig_sttspan)\n",
    "    return np.array(sss),np.array(sig_sss)         #Conver list to arrat for mathematical operations\n",
    "        \n",
    "nx = deptick.shape[0]\n",
    "ny = deptick.shape[1]\n",
    "nt = deptick.shape[2]\n",
    "dx = 100                                           #grid node spacing in x direction (m)\n",
    "dy = 100                                           #grid node spacing in y direction (m)\n",
    "sssallradial = np.zeros((nt-1,nx))\n",
    "ssserrorallradial = np.zeros((nt-1,nx))\n",
    "xcenter = 1\n",
    "ycenter = 188\n",
    "num = 2*math.pi\n",
    "\n",
    "for i in range(nx):\n",
    "    th = np.arange(0,num,1/i)\n",
    "    xunit = i*math.cos(th[i])+xcenter            #get x-locations on a radial transect\n",
    "    yunit = i*math.sin(th[i])+ycenter            #get y-locations on a radial transect\n",
    "    xunit = round(xunit)\n",
    "    yunit = round(yunit)\n",
    "    xunit2 = []\n",
    "    yunit2 = []\n",
    "    dx = np.max(xunit)\n",
    "    for j in range(dx):\n",
    "        xc = xunit\n",
    "        yc = yunit\n",
    "        if xc >= 1:\n",
    "            if yc >= 1:\n",
    "                if xc <= nx:\n",
    "                    if yc <= ny:\n",
    "                        xunit2.append(xc)\n",
    "                        yunit2.append(yc)\n",
    "    xunit = xunit2\n",
    "    yunit = yunit2                     \n",
    "    xs = []\n",
    "    for k in range(dx):\n",
    "        xs_shot = deptick[(yunit[k],xunit[k]),:]\n",
    "        np.array(xs_shot)\n",
    "        xs_shot = np.reshape(xs_shot,(2,3,1))  \n",
    "        xs.append(xs_shot)\n",
    "        \n",
    "    z = xs\n",
    "    strata = Syn_strata(z)                 #call function that corrects topography data for errosion\n",
    "    dxx = strata.shape[0]\n",
    "    for jj in range(dxx):                  #Loop to find western most location where deposition starts on xsection\n",
    "        d = strata[jj,nt]-strata[jj,0]\n",
    "        if d > 0.5:\n",
    "            start = jj\n",
    "            break\n",
    "\n",
    "    for jj in range(dxx-1,-1,-1):          #Loop to find easter most location where deposition starts on xsection\n",
    "        d = strata[jj,nt]-strata[jj,1]\n",
    "        if d > 0.5:\n",
    "            end = jj\n",
    "            break\n",
    "\n",
    "    if jj == 1:                           #If no deposition anywhere in xsection, note this through nan's\n",
    "        sssallradial[:,i]= np.nan\n",
    "        ssserrorallradial[:,i]= np.nan\n",
    "\n",
    "    if jj > 1:                            #If deposition in xsection, calculate sigma ss decay\n",
    "        Syn_strat= strata[start:end,:]    #clip xsection transect to limits of deposit\n",
    "        zstart = strata[:,1]\n",
    "        zend = strata[:,nt]\n",
    "        temp = np.subtract(zend,zstart)\n",
    "        drfit_rate = np.mean(temp)/nt        #calculate mean deposition rate for reach where deposition occurs\n",
    "        sss,sig_sss = fsigma_ss_strat(strata,drift_rate)     #Run sigma ss function\n",
    "        sssallradial[:,i]= sss\n",
    "        ssserrorallradial[:,i]=sig_sss\n"
   ]
  },
  {
   "cell_type": "code",
   "execution_count": 11,
   "metadata": {},
   "outputs": [
    {
     "ename": "NameError",
     "evalue": "name 'matlab' is not defined",
     "output_type": "error",
     "traceback": [
      "\u001b[1;31m---------------------------------------------------------------------------\u001b[0m",
      "\u001b[1;31mNameError\u001b[0m                                 Traceback (most recent call last)",
      "Input \u001b[1;32mIn [11]\u001b[0m, in \u001b[0;36m<module>\u001b[1;34m\u001b[0m\n\u001b[0;32m      1\u001b[0m \u001b[38;5;66;03m##---Automate significant change detection across the mean for a given cross-section of stratigraphy---##\u001b[39;00m\n\u001b[1;32m----> 2\u001b[0m eng \u001b[38;5;241m=\u001b[39m \u001b[43mmatlab\u001b[49m\u001b[38;5;241m.\u001b[39mengine\u001b[38;5;241m.\u001b[39mstart_matlab()\n\u001b[0;32m      3\u001b[0m nx \u001b[38;5;241m=\u001b[39m sig_sss\u001b[38;5;241m.\u001b[39mshape[\u001b[38;5;241m0\u001b[39m]\n\u001b[0;32m      4\u001b[0m nt \u001b[38;5;241m=\u001b[39m sig_sss\u001b[38;5;241m.\u001b[39mshape[\u001b[38;5;241m1\u001b[39m]\n",
      "\u001b[1;31mNameError\u001b[0m: name 'matlab' is not defined"
     ]
    }
   ],
   "source": [
    "##---Automate significant change detection across the mean for a given cross-section of stratigraphy---##\n",
    "eng = matlab.engine.start_matlab()\n",
    "nx = sig_sss.shape[0]\n",
    "nt = sig_sss.shape[1]\n",
    "dt = 1\n",
    "t = range(dt,dt*nt)\n",
    "Kappa = []\n",
    "IND = []\n",
    "RES =[]\n",
    "for i in range(1,nx):\n",
    "    sig_sss = sssallradial[:,i]\n",
    "    ipt, residuals = eng.findchangepts(sig_ss, MaxNumChanges=1) \n",
    "    ind = ipt[0]\n",
    "    IND.ppend(ind)\n",
    "    tcrop = t[0:ind]\n",
    "    tcrop.conj()\n",
    "    ssscrop = sig_sss[0:ind]\n",
    "    p = np.polyfit(np.log(tcrop),np.log(ssscrop),1)\n",
    "    kappa = p[0]*-1\n",
    "    Kappa.append(kappa)\n",
    "    RES.append(residuals)   \n"
   ]
  },
  {
   "cell_type": "code",
   "execution_count": null,
   "metadata": {},
   "outputs": [],
   "source": []
  }
 ],
 "metadata": {
  "kernelspec": {
   "display_name": "Python 3 (ipykernel)",
   "language": "python",
   "name": "python3"
  },
  "language_info": {
   "codemirror_mode": {
    "name": "ipython",
    "version": 3
   },
   "file_extension": ".py",
   "mimetype": "text/x-python",
   "name": "python",
   "nbconvert_exporter": "python",
   "pygments_lexer": "ipython3",
   "version": "3.10.2"
  }
 },
 "nbformat": 4,
 "nbformat_minor": 2
}
